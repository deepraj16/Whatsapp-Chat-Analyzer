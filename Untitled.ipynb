{
 "cells": [
  {
   "cell_type": "code",
   "execution_count": 1,
   "id": "e5932283-98ce-4fa5-b67e-5a4985b63de4",
   "metadata": {},
   "outputs": [],
   "source": [
    "import re \n",
    "import pandas as pd  \n"
   ]
  },
  {
   "cell_type": "code",
   "execution_count": 2,
   "id": "21296772-1f1d-4fc7-bdf0-93b98aaa1d01",
   "metadata": {},
   "outputs": [],
   "source": [
    "f=open('WhatsApp Chat with GD.txt','r',encoding='utf-8')"
   ]
  },
  {
   "cell_type": "code",
   "execution_count": 3,
   "id": "989f3d43-0055-4a14-8760-c59f704423a0",
   "metadata": {},
   "outputs": [],
   "source": [
    "data =f.read()"
   ]
  },
  {
   "cell_type": "code",
   "execution_count": 4,
   "id": "b17bf435-0a18-4166-a133-2c6d8f1d1e93",
   "metadata": {},
   "outputs": [
    {
     "name": "stdout",
     "output_type": "stream",
     "text": [
      "<class 'str'>\n"
     ]
    }
   ],
   "source": [
    "print(type(data))\n"
   ]
  },
  {
   "cell_type": "code",
   "execution_count": 5,
   "id": "b09ee5e6-7a83-4dd7-a74c-628d7f6b15e3",
   "metadata": {},
   "outputs": [],
   "source": [
    "messages =data.split('\\n')\n",
    "#messages"
   ]
  },
  {
   "cell_type": "code",
   "execution_count": 6,
   "id": "eec289eb-f28e-484b-a64f-f3da7fd8cb63",
   "metadata": {},
   "outputs": [],
   "source": [
    "#cleaned_text = text.replace(\"\\u202f\", \"\")"
   ]
  },
  {
   "cell_type": "code",
   "execution_count": 7,
   "id": "f0cb2887-967d-4f3e-8c70-4ee01383b111",
   "metadata": {},
   "outputs": [],
   "source": [
    "pattern = '\\d{1,2}/\\d{1,2}/\\d{2,4},\\s\\d{1,2}:\\d{2}\\s-\\s'"
   ]
  },
  {
   "cell_type": "code",
   "execution_count": 8,
   "id": "b42d3b01-fe87-45c9-b572-d77515a70061",
   "metadata": {},
   "outputs": [
    {
     "data": {
      "text/plain": [
       "'19/09/24, 6:40\\u202fpm - Messages and calls are end-to-end encrypted. No one outside of this chat, not even WhatsApp, can read or listen to them. Tap to learn more.'"
      ]
     },
     "execution_count": 8,
     "metadata": {},
     "output_type": "execute_result"
    }
   ],
   "source": [
    "# messages =re.split(pattern,data)\n",
    "#messages\n",
    "messages[0]"
   ]
  },
  {
   "cell_type": "code",
   "execution_count": 9,
   "id": "a27f34c0-1655-4e63-a51e-82027821f33c",
   "metadata": {},
   "outputs": [
    {
     "data": {
      "text/plain": [
       "443"
      ]
     },
     "execution_count": 9,
     "metadata": {},
     "output_type": "execute_result"
    }
   ],
   "source": [
    "len(messages)"
   ]
  },
  {
   "cell_type": "code",
   "execution_count": 10,
   "id": "44923c0b-1729-41ee-adbc-756330652b2f",
   "metadata": {},
   "outputs": [],
   "source": [
    "message=[]\n",
    "for i in range(len(messages)):\n",
    "    message.append(messages[i].replace(\"\\u202f\", \"\"))\n",
    "    #print(messages[i])"
   ]
  },
  {
   "cell_type": "code",
   "execution_count": 11,
   "id": "2d2db1cd-da12-497a-b0cf-7599c4834ea3",
   "metadata": {},
   "outputs": [],
   "source": [
    "#message"
   ]
  },
  {
   "cell_type": "code",
   "execution_count": null,
   "id": "b0c2ef52-791f-4176-9575-29f911301f18",
   "metadata": {},
   "outputs": [],
   "source": []
  },
  {
   "cell_type": "code",
   "execution_count": 17,
   "id": "ee6fe09f-1b73-4317-b6ce-37ae43740a5b",
   "metadata": {},
   "outputs": [],
   "source": [
    "from datetime import datetime\n",
    "\n",
    "message2 = []\n",
    "\n",
    "for i in range(len(message)):\n",
    "    text = message[i]\n",
    "    \n",
    "    # Ensure there is a space before \"am\" or \"pm\"\n",
    "    text = text.replace(\"am\", \" am\").replace(\"pm\", \" pm\")\n",
    "    \n",
    "    # Extract the date and time part (before the \" - \" separator)\n",
    "    date_time_str = text.split(\" - \")[0]\n",
    "\n",
    "    try:\n",
    "        # Try converting the extracted part to a datetime object\n",
    "        date_time_obj = datetime.strptime(date_time_str, \"%d/%m/%y, %I:%M %p\")\n",
    "\n",
    "        # Format it back to 24-hour format\n",
    "        new_format = date_time_obj.strftime(\"%d/%m/%y, %H:%M\")\n",
    "\n",
    "        # Replace the original part with the new format\n",
    "        cleaned_text = text.replace(date_time_str, new_format)\n",
    "    except ValueError:\n",
    "        # If there's a ValueError, skip this message\n",
    "        cleaned_text = text\n",
    "\n",
    "    # Append cleaned or unchanged text to message2\n",
    "    message2.append(cleaned_text)\n",
    "\n",
    "# Output the final message2\n",
    "\n"
   ]
  },
  {
   "cell_type": "code",
   "execution_count": 18,
   "id": "6f4f1b40-13ab-4de5-b21e-695f0e8766ee",
   "metadata": {},
   "outputs": [],
   "source": [
    "k=str(message2)"
   ]
  },
  {
   "cell_type": "code",
   "execution_count": 19,
   "id": "9034d0ae-c4f2-4900-9061-02527c08befd",
   "metadata": {},
   "outputs": [],
   "source": [
    "pattern = '\\d{1,2}/\\d{1,2}/\\d{2,4},\\s\\d{1,2}:\\d{2}\\s-\\s'"
   ]
  },
  {
   "cell_type": "code",
   "execution_count": 20,
   "id": "d5482b77-b9e1-4135-87e2-63270c49692e",
   "metadata": {},
   "outputs": [],
   "source": [
    "m2 =re.split(pattern,k)[1:]"
   ]
  },
  {
   "cell_type": "code",
   "execution_count": null,
   "id": "38d6b5ea-d9a3-4c3d-948a-1998ce44c294",
   "metadata": {},
   "outputs": [],
   "source": [
    "\n"
   ]
  },
  {
   "cell_type": "code",
   "execution_count": 21,
   "id": "dfca0356-5709-46c9-a573-2a2e5ec7f445",
   "metadata": {},
   "outputs": [],
   "source": [
    "datas=re.findall(pattern,k)"
   ]
  },
  {
   "cell_type": "code",
   "execution_count": 22,
   "id": "bcc4850c-e5e0-46f1-b32b-f0d19fa40142",
   "metadata": {},
   "outputs": [
    {
     "data": {
      "text/plain": [
       "313"
      ]
     },
     "execution_count": 22,
     "metadata": {},
     "output_type": "execute_result"
    }
   ],
   "source": [
    "len(datas)"
   ]
  },
  {
   "cell_type": "code",
   "execution_count": 23,
   "id": "8ed27231-58da-4195-a8be-f21f5bc2d448",
   "metadata": {},
   "outputs": [
    {
     "data": {
      "text/plain": [
       "313"
      ]
     },
     "execution_count": 23,
     "metadata": {},
     "output_type": "execute_result"
    }
   ],
   "source": [
    "len(m2)"
   ]
  },
  {
   "cell_type": "code",
   "execution_count": 24,
   "id": "ec99fbbe-7459-4a26-8e93-26c679c61f74",
   "metadata": {},
   "outputs": [
    {
     "data": {
      "text/html": [
       "<div>\n",
       "<style scoped>\n",
       "    .dataframe tbody tr th:only-of-type {\n",
       "        vertical-align: middle;\n",
       "    }\n",
       "\n",
       "    .dataframe tbody tr th {\n",
       "        vertical-align: top;\n",
       "    }\n",
       "\n",
       "    .dataframe thead th {\n",
       "        text-align: right;\n",
       "    }\n",
       "</style>\n",
       "<table border=\"1\" class=\"dataframe\">\n",
       "  <thead>\n",
       "    <tr style=\"text-align: right;\">\n",
       "      <th></th>\n",
       "      <th>user_message</th>\n",
       "      <th>date</th>\n",
       "    </tr>\n",
       "  </thead>\n",
       "  <tbody>\n",
       "    <tr>\n",
       "      <th>0</th>\n",
       "      <td>Messages and calls are end-to-end encrypted. N...</td>\n",
       "      <td>2024-09-19 18:40:00</td>\n",
       "    </tr>\n",
       "    <tr>\n",
       "      <th>1</th>\n",
       "      <td>You were added', '</td>\n",
       "      <td>2024-09-19 18:40:00</td>\n",
       "    </tr>\n",
       "    <tr>\n",
       "      <th>2</th>\n",
       "      <td>Rohit Bargal created group \"GD\"', '</td>\n",
       "      <td>2024-09-19 18:08:00</td>\n",
       "    </tr>\n",
       "    <tr>\n",
       "      <th>3</th>\n",
       "      <td>Vishal Autade changed the group description', '</td>\n",
       "      <td>2024-09-19 18:23:00</td>\n",
       "    </tr>\n",
       "    <tr>\n",
       "      <th>4</th>\n",
       "      <td>Rohit Bargal: @918767757964 9th member la add ...</td>\n",
       "      <td>2024-09-19 18:09:00</td>\n",
       "    </tr>\n",
       "  </tbody>\n",
       "</table>\n",
       "</div>"
      ],
      "text/plain": [
       "                                        user_message                date\n",
       "0  Messages and calls are end-to-end encrypted. N... 2024-09-19 18:40:00\n",
       "1                                 You were added', ' 2024-09-19 18:40:00\n",
       "2                Rohit Bargal created group \"GD\"', ' 2024-09-19 18:08:00\n",
       "3    Vishal Autade changed the group description', ' 2024-09-19 18:23:00\n",
       "4  Rohit Bargal: @918767757964 9th member la add ... 2024-09-19 18:09:00"
      ]
     },
     "execution_count": 24,
     "metadata": {},
     "output_type": "execute_result"
    }
   ],
   "source": [
    "import pandas as pd\n",
    "\n",
    "# Example DataFrame\n",
    "df = pd.DataFrame({'user_message': m2, 'message_date': datas})\n",
    "\n",
    "# Convert message_date to datetime using the correct format for 2-digit year\n",
    "df['message_date'] = pd.to_datetime(df['message_date'], format='%d/%m/%y, %H:%M - ', errors='coerce')\n",
    "\n",
    "# Rename the column to 'date'\n",
    "df.rename(columns={'message_date': 'date'}, inplace=True)\n",
    "\n",
    "# Display the first few rows of the DataFrame\n",
    "df.head()\n"
   ]
  },
  {
   "cell_type": "code",
   "execution_count": 25,
   "id": "28e42cd5-d378-4ba3-b52e-f7672c062edb",
   "metadata": {},
   "outputs": [
    {
     "name": "stdout",
     "output_type": "stream",
     "text": [
      "<class 'pandas.core.frame.DataFrame'>\n",
      "RangeIndex: 313 entries, 0 to 312\n",
      "Data columns (total 2 columns):\n",
      " #   Column        Non-Null Count  Dtype         \n",
      "---  ------        --------------  -----         \n",
      " 0   user_message  313 non-null    object        \n",
      " 1   date          313 non-null    datetime64[ns]\n",
      "dtypes: datetime64[ns](1), object(1)\n",
      "memory usage: 5.0+ KB\n"
     ]
    }
   ],
   "source": [
    "df.info()"
   ]
  },
  {
   "cell_type": "code",
   "execution_count": 26,
   "id": "c3ca03e1-069f-4aee-892a-a97a93185924",
   "metadata": {},
   "outputs": [],
   "source": [
    "user = [ ]\n",
    "mes3= []\n",
    "for mess in df['user_message']: \n",
    "    entry =re.split('([\\w\\W]+?):\\s',mess)\n",
    "    if entry[1:]: \n",
    "        user.append(entry[1])\n",
    "        mes3.append(entry[2])\n",
    "    else : \n",
    "        user.append(\"group_notif\")\n",
    "        mes3.append(entry[0])"
   ]
  },
  {
   "cell_type": "code",
   "execution_count": 27,
   "id": "5cf51dd6-7888-4821-ba32-1a52b58381cd",
   "metadata": {},
   "outputs": [
    {
     "data": {
      "text/plain": [
       "313"
      ]
     },
     "execution_count": 27,
     "metadata": {},
     "output_type": "execute_result"
    }
   ],
   "source": [
    "len(user)"
   ]
  },
  {
   "cell_type": "code",
   "execution_count": 28,
   "id": "df535b1c-6ee9-458e-8b64-ba34029e15b2",
   "metadata": {},
   "outputs": [
    {
     "data": {
      "text/plain": [
       "313"
      ]
     },
     "execution_count": 28,
     "metadata": {},
     "output_type": "execute_result"
    }
   ],
   "source": [
    "len(mes3)"
   ]
  },
  {
   "cell_type": "code",
   "execution_count": 29,
   "id": "5e2206a2-2820-4d2d-a594-ca97bcf48b73",
   "metadata": {},
   "outputs": [
    {
     "data": {
      "text/plain": [
       "0             \n",
       "Vishal Autade     72\n",
       "Harsh Badhe       63\n",
       "F Om Chaudhari    59\n",
       "Rohit Bargal      45\n",
       "Tanmy             37\n",
       "Jagruti Bangar    14\n",
       "Varun B           11\n",
       "group_notif       10\n",
       "Deepraj            2\n",
       "Name: count, dtype: int64"
      ]
     },
     "execution_count": 29,
     "metadata": {},
     "output_type": "execute_result"
    }
   ],
   "source": [
    "pd.DataFrame(user).value_counts()"
   ]
  },
  {
   "cell_type": "code",
   "execution_count": 30,
   "id": "0591a28b-87ca-484d-ba83-c516561204f3",
   "metadata": {},
   "outputs": [],
   "source": [
    "df['user'] =user \n",
    "df['message']=mes3\n",
    "df.drop(columns=['user_message'],inplace=True)"
   ]
  },
  {
   "cell_type": "code",
   "execution_count": 31,
   "id": "b17fc551-4b10-40fd-ab46-61a1693f2afc",
   "metadata": {},
   "outputs": [
    {
     "data": {
      "text/html": [
       "<div>\n",
       "<style scoped>\n",
       "    .dataframe tbody tr th:only-of-type {\n",
       "        vertical-align: middle;\n",
       "    }\n",
       "\n",
       "    .dataframe tbody tr th {\n",
       "        vertical-align: top;\n",
       "    }\n",
       "\n",
       "    .dataframe thead th {\n",
       "        text-align: right;\n",
       "    }\n",
       "</style>\n",
       "<table border=\"1\" class=\"dataframe\">\n",
       "  <thead>\n",
       "    <tr style=\"text-align: right;\">\n",
       "      <th></th>\n",
       "      <th>date</th>\n",
       "      <th>user</th>\n",
       "      <th>message</th>\n",
       "    </tr>\n",
       "  </thead>\n",
       "  <tbody>\n",
       "    <tr>\n",
       "      <th>0</th>\n",
       "      <td>2024-09-19 18:40:00</td>\n",
       "      <td>group_notif</td>\n",
       "      <td>Messages and calls are end-to-end encrypted. N...</td>\n",
       "    </tr>\n",
       "    <tr>\n",
       "      <th>1</th>\n",
       "      <td>2024-09-19 18:40:00</td>\n",
       "      <td>group_notif</td>\n",
       "      <td>You were added', '</td>\n",
       "    </tr>\n",
       "    <tr>\n",
       "      <th>2</th>\n",
       "      <td>2024-09-19 18:08:00</td>\n",
       "      <td>group_notif</td>\n",
       "      <td>Rohit Bargal created group \"GD\"', '</td>\n",
       "    </tr>\n",
       "  </tbody>\n",
       "</table>\n",
       "</div>"
      ],
      "text/plain": [
       "                 date         user  \\\n",
       "0 2024-09-19 18:40:00  group_notif   \n",
       "1 2024-09-19 18:40:00  group_notif   \n",
       "2 2024-09-19 18:08:00  group_notif   \n",
       "\n",
       "                                             message  \n",
       "0  Messages and calls are end-to-end encrypted. N...  \n",
       "1                                 You were added', '  \n",
       "2                Rohit Bargal created group \"GD\"', '  "
      ]
     },
     "execution_count": 31,
     "metadata": {},
     "output_type": "execute_result"
    }
   ],
   "source": [
    "df.head(3)"
   ]
  },
  {
   "cell_type": "code",
   "execution_count": 32,
   "id": "0b4b0663-4539-4b8c-a8dd-fc0a3962f6fb",
   "metadata": {},
   "outputs": [
    {
     "data": {
      "text/html": [
       "<div>\n",
       "<style scoped>\n",
       "    .dataframe tbody tr th:only-of-type {\n",
       "        vertical-align: middle;\n",
       "    }\n",
       "\n",
       "    .dataframe tbody tr th {\n",
       "        vertical-align: top;\n",
       "    }\n",
       "\n",
       "    .dataframe thead th {\n",
       "        text-align: right;\n",
       "    }\n",
       "</style>\n",
       "<table border=\"1\" class=\"dataframe\">\n",
       "  <thead>\n",
       "    <tr style=\"text-align: right;\">\n",
       "      <th></th>\n",
       "      <th>date</th>\n",
       "      <th>user</th>\n",
       "      <th>message</th>\n",
       "    </tr>\n",
       "  </thead>\n",
       "  <tbody>\n",
       "    <tr>\n",
       "      <th>208</th>\n",
       "      <td>2024-09-27 19:55:00</td>\n",
       "      <td>Vishal Autade</td>\n",
       "      <td>ok udya fine', '</td>\n",
       "    </tr>\n",
       "    <tr>\n",
       "      <th>200</th>\n",
       "      <td>2024-09-27 18:31:00</td>\n",
       "      <td>Harsh Badhe</td>\n",
       "      <td>Udya pan chalel', '</td>\n",
       "    </tr>\n",
       "    <tr>\n",
       "      <th>234</th>\n",
       "      <td>2024-10-10 18:29:00</td>\n",
       "      <td>Tanmy</td>\n",
       "      <td>&lt;Media omitted&gt;', '</td>\n",
       "    </tr>\n",
       "  </tbody>\n",
       "</table>\n",
       "</div>"
      ],
      "text/plain": [
       "                   date           user              message\n",
       "208 2024-09-27 19:55:00  Vishal Autade     ok udya fine', '\n",
       "200 2024-09-27 18:31:00    Harsh Badhe  Udya pan chalel', '\n",
       "234 2024-10-10 18:29:00          Tanmy  <Media omitted>', '"
      ]
     },
     "execution_count": 32,
     "metadata": {},
     "output_type": "execute_result"
    }
   ],
   "source": [
    "df.sample(3)"
   ]
  },
  {
   "cell_type": "code",
   "execution_count": 33,
   "id": "7b159804-c623-47e9-ae11-89182f3724fd",
   "metadata": {},
   "outputs": [
    {
     "data": {
      "text/html": [
       "<div>\n",
       "<style scoped>\n",
       "    .dataframe tbody tr th:only-of-type {\n",
       "        vertical-align: middle;\n",
       "    }\n",
       "\n",
       "    .dataframe tbody tr th {\n",
       "        vertical-align: top;\n",
       "    }\n",
       "\n",
       "    .dataframe thead th {\n",
       "        text-align: right;\n",
       "    }\n",
       "</style>\n",
       "<table border=\"1\" class=\"dataframe\">\n",
       "  <thead>\n",
       "    <tr style=\"text-align: right;\">\n",
       "      <th></th>\n",
       "      <th>date</th>\n",
       "      <th>user</th>\n",
       "      <th>message</th>\n",
       "    </tr>\n",
       "  </thead>\n",
       "  <tbody>\n",
       "    <tr>\n",
       "      <th>66</th>\n",
       "      <td>2024-09-20 20:08:00</td>\n",
       "      <td>Rohit Bargal</td>\n",
       "      <td>Okok', '</td>\n",
       "    </tr>\n",
       "    <tr>\n",
       "      <th>72</th>\n",
       "      <td>2024-09-20 20:09:00</td>\n",
       "      <td>Rohit Bargal</td>\n",
       "      <td>Nko rahu de hach', '</td>\n",
       "    </tr>\n",
       "    <tr>\n",
       "      <th>266</th>\n",
       "      <td>2024-10-10 21:29:00</td>\n",
       "      <td>Varun B</td>\n",
       "      <td>@917020924255', '</td>\n",
       "    </tr>\n",
       "  </tbody>\n",
       "</table>\n",
       "</div>"
      ],
      "text/plain": [
       "                   date          user               message\n",
       "66  2024-09-20 20:08:00  Rohit Bargal              Okok', '\n",
       "72  2024-09-20 20:09:00  Rohit Bargal  Nko rahu de hach', '\n",
       "266 2024-10-10 21:29:00       Varun B     @917020924255', '"
      ]
     },
     "execution_count": 33,
     "metadata": {},
     "output_type": "execute_result"
    }
   ],
   "source": [
    "df.sample(3)"
   ]
  },
  {
   "cell_type": "code",
   "execution_count": 34,
   "id": "7f3a8c9e-e0b8-480e-91e9-5ee4938726a6",
   "metadata": {},
   "outputs": [],
   "source": [
    "df['year']=df['date'].dt.year"
   ]
  },
  {
   "cell_type": "code",
   "execution_count": 35,
   "id": "1bc3375b-b495-4314-93a6-b020ebcb72f4",
   "metadata": {},
   "outputs": [],
   "source": [
    "df['month']=df['date'].dt.month_name()"
   ]
  },
  {
   "cell_type": "code",
   "execution_count": 36,
   "id": "b26b7751-205e-4da1-bbb0-0a7863d56f0a",
   "metadata": {},
   "outputs": [],
   "source": [
    "df['day']=df['date'].dt.day"
   ]
  },
  {
   "cell_type": "code",
   "execution_count": 37,
   "id": "2ee1ce85-8437-4eda-b84c-f868b6205229",
   "metadata": {},
   "outputs": [],
   "source": [
    "df['hour']=df['date'].dt.hour"
   ]
  },
  {
   "cell_type": "code",
   "execution_count": 38,
   "id": "fac5baa4-d068-47c9-8e67-5623ef3e1bc2",
   "metadata": {},
   "outputs": [
    {
     "data": {
      "text/plain": [
       "0      18\n",
       "1      18\n",
       "2      18\n",
       "3      18\n",
       "4      18\n",
       "       ..\n",
       "308    21\n",
       "309    21\n",
       "310    21\n",
       "311    21\n",
       "312    21\n",
       "Name: hour, Length: 313, dtype: int32"
      ]
     },
     "execution_count": 38,
     "metadata": {},
     "output_type": "execute_result"
    }
   ],
   "source": [
    "df['hour']"
   ]
  },
  {
   "cell_type": "code",
   "execution_count": 39,
   "id": "61262479-0d30-4972-86b9-0f95018bc82b",
   "metadata": {},
   "outputs": [],
   "source": [
    "df['min']=df['date'].dt.minute"
   ]
  },
  {
   "cell_type": "code",
   "execution_count": 40,
   "id": "173e147b-f07d-42ce-b27d-93da3f475216",
   "metadata": {},
   "outputs": [
    {
     "data": {
      "text/html": [
       "<div>\n",
       "<style scoped>\n",
       "    .dataframe tbody tr th:only-of-type {\n",
       "        vertical-align: middle;\n",
       "    }\n",
       "\n",
       "    .dataframe tbody tr th {\n",
       "        vertical-align: top;\n",
       "    }\n",
       "\n",
       "    .dataframe thead th {\n",
       "        text-align: right;\n",
       "    }\n",
       "</style>\n",
       "<table border=\"1\" class=\"dataframe\">\n",
       "  <thead>\n",
       "    <tr style=\"text-align: right;\">\n",
       "      <th></th>\n",
       "      <th>date</th>\n",
       "      <th>user</th>\n",
       "      <th>message</th>\n",
       "      <th>year</th>\n",
       "      <th>month</th>\n",
       "      <th>day</th>\n",
       "      <th>hour</th>\n",
       "      <th>min</th>\n",
       "    </tr>\n",
       "  </thead>\n",
       "  <tbody>\n",
       "    <tr>\n",
       "      <th>0</th>\n",
       "      <td>2024-09-19 18:40:00</td>\n",
       "      <td>group_notif</td>\n",
       "      <td>Messages and calls are end-to-end encrypted. N...</td>\n",
       "      <td>2024</td>\n",
       "      <td>September</td>\n",
       "      <td>19</td>\n",
       "      <td>18</td>\n",
       "      <td>40</td>\n",
       "    </tr>\n",
       "    <tr>\n",
       "      <th>1</th>\n",
       "      <td>2024-09-19 18:40:00</td>\n",
       "      <td>group_notif</td>\n",
       "      <td>You were added', '</td>\n",
       "      <td>2024</td>\n",
       "      <td>September</td>\n",
       "      <td>19</td>\n",
       "      <td>18</td>\n",
       "      <td>40</td>\n",
       "    </tr>\n",
       "    <tr>\n",
       "      <th>2</th>\n",
       "      <td>2024-09-19 18:08:00</td>\n",
       "      <td>group_notif</td>\n",
       "      <td>Rohit Bargal created group \"GD\"', '</td>\n",
       "      <td>2024</td>\n",
       "      <td>September</td>\n",
       "      <td>19</td>\n",
       "      <td>18</td>\n",
       "      <td>8</td>\n",
       "    </tr>\n",
       "    <tr>\n",
       "      <th>3</th>\n",
       "      <td>2024-09-19 18:23:00</td>\n",
       "      <td>group_notif</td>\n",
       "      <td>Vishal Autade changed the group description', '</td>\n",
       "      <td>2024</td>\n",
       "      <td>September</td>\n",
       "      <td>19</td>\n",
       "      <td>18</td>\n",
       "      <td>23</td>\n",
       "    </tr>\n",
       "    <tr>\n",
       "      <th>4</th>\n",
       "      <td>2024-09-19 18:09:00</td>\n",
       "      <td>Rohit Bargal</td>\n",
       "      <td>@918767757964 9th member la add kr', '</td>\n",
       "      <td>2024</td>\n",
       "      <td>September</td>\n",
       "      <td>19</td>\n",
       "      <td>18</td>\n",
       "      <td>9</td>\n",
       "    </tr>\n",
       "  </tbody>\n",
       "</table>\n",
       "</div>"
      ],
      "text/plain": [
       "                 date          user  \\\n",
       "0 2024-09-19 18:40:00   group_notif   \n",
       "1 2024-09-19 18:40:00   group_notif   \n",
       "2 2024-09-19 18:08:00   group_notif   \n",
       "3 2024-09-19 18:23:00   group_notif   \n",
       "4 2024-09-19 18:09:00  Rohit Bargal   \n",
       "\n",
       "                                             message  year      month  day  \\\n",
       "0  Messages and calls are end-to-end encrypted. N...  2024  September   19   \n",
       "1                                 You were added', '  2024  September   19   \n",
       "2                Rohit Bargal created group \"GD\"', '  2024  September   19   \n",
       "3    Vishal Autade changed the group description', '  2024  September   19   \n",
       "4             @918767757964 9th member la add kr', '  2024  September   19   \n",
       "\n",
       "   hour  min  \n",
       "0    18   40  \n",
       "1    18   40  \n",
       "2    18    8  \n",
       "3    18   23  \n",
       "4    18    9  "
      ]
     },
     "execution_count": 40,
     "metadata": {},
     "output_type": "execute_result"
    }
   ],
   "source": [
    "df.head()"
   ]
  },
  {
   "cell_type": "code",
   "execution_count": 41,
   "id": "ad7c3d0e-1c5e-4de4-8ad9-d1cfa3d8936d",
   "metadata": {},
   "outputs": [],
   "source": [
    "temp=df[df['user'] !='group_notif']\n",
    "temp=temp[temp['message']!=\"<Media omitted>', '\" ] "
   ]
  },
  {
   "cell_type": "code",
   "execution_count": null,
   "id": "4acd3c7e-21f5-4ea4-8873-6214ea345f65",
   "metadata": {},
   "outputs": [],
   "source": []
  },
  {
   "cell_type": "code",
   "execution_count": 42,
   "id": "12ec1a79-30f7-431f-9f9f-47d9e62315f5",
   "metadata": {},
   "outputs": [],
   "source": [
    "#grop message remove \n",
    "temp=df[df['user'] !='group_notif']\n",
    "temp=temp[temp['message']!=\"<Media omitted>', '\" ] \n"
   ]
  },
  {
   "cell_type": "code",
   "execution_count": 43,
   "id": "a058da2c-d70a-44cf-9ec0-c79a5003f3e7",
   "metadata": {},
   "outputs": [],
   "source": [
    "# remove stopword hindish\n",
    "f= open('hindlish_stopword.txt','r')\n",
    "stop_word=f.read().split('\\n')"
   ]
  },
  {
   "cell_type": "code",
   "execution_count": 44,
   "id": "9a565f93-3e1c-4cc7-9905-75cda51f36da",
   "metadata": {},
   "outputs": [],
   "source": [
    "words =[]\n",
    "f= open('hindlish_stopword.txt','r')\n",
    "stop_word=f.read().split('\\n')\n",
    "marathi_stopword =['ahe','la','te','ha','kare','mi']\n",
    "for message1 in temp['message']: \n",
    "    for word in message1.lower().split():\n",
    "        if word not in stop_word:\n",
    "            if word not in marathi_stopword:\n",
    "                words.append(word)\n",
    "        \n",
    "#words\n",
    "\n"
   ]
  },
  {
   "cell_type": "code",
   "execution_count": 45,
   "id": "cdda751a-361b-471c-8a9c-dc5015aed13b",
   "metadata": {},
   "outputs": [],
   "source": [
    "cleaned_list = [item for item in words if re.match(r'^[a-zA-Z\\s]+$', item)]\n",
    "#cleaned_list"
   ]
  },
  {
   "cell_type": "code",
   "execution_count": 46,
   "id": "2d42bb77-1e2d-4be1-829e-6580a5aea99d",
   "metadata": {},
   "outputs": [
    {
     "data": {
      "text/html": [
       "<div>\n",
       "<style scoped>\n",
       "    .dataframe tbody tr th:only-of-type {\n",
       "        vertical-align: middle;\n",
       "    }\n",
       "\n",
       "    .dataframe tbody tr th {\n",
       "        vertical-align: top;\n",
       "    }\n",
       "\n",
       "    .dataframe thead th {\n",
       "        text-align: right;\n",
       "    }\n",
       "</style>\n",
       "<table border=\"1\" class=\"dataframe\">\n",
       "  <thead>\n",
       "    <tr style=\"text-align: right;\">\n",
       "      <th></th>\n",
       "      <th>0</th>\n",
       "      <th>1</th>\n",
       "    </tr>\n",
       "  </thead>\n",
       "  <tbody>\n",
       "    <tr>\n",
       "      <th>0</th>\n",
       "      <td>gd</td>\n",
       "      <td>15</td>\n",
       "    </tr>\n",
       "    <tr>\n",
       "      <th>1</th>\n",
       "      <td>udya</td>\n",
       "      <td>15</td>\n",
       "    </tr>\n",
       "    <tr>\n",
       "      <th>2</th>\n",
       "      <td>point</td>\n",
       "      <td>15</td>\n",
       "    </tr>\n",
       "    <tr>\n",
       "      <th>3</th>\n",
       "      <td>add</td>\n",
       "      <td>12</td>\n",
       "    </tr>\n",
       "    <tr>\n",
       "      <th>4</th>\n",
       "      <td>group</td>\n",
       "      <td>10</td>\n",
       "    </tr>\n",
       "    <tr>\n",
       "      <th>5</th>\n",
       "      <td>aree</td>\n",
       "      <td>9</td>\n",
       "    </tr>\n",
       "    <tr>\n",
       "      <th>6</th>\n",
       "      <td>madhe</td>\n",
       "      <td>8</td>\n",
       "    </tr>\n",
       "    <tr>\n",
       "      <th>7</th>\n",
       "      <td>topic</td>\n",
       "      <td>6</td>\n",
       "    </tr>\n",
       "    <tr>\n",
       "      <th>8</th>\n",
       "      <td>time</td>\n",
       "      <td>6</td>\n",
       "    </tr>\n",
       "    <tr>\n",
       "      <th>9</th>\n",
       "      <td>kay</td>\n",
       "      <td>6</td>\n",
       "    </tr>\n",
       "    <tr>\n",
       "      <th>10</th>\n",
       "      <td>deadline</td>\n",
       "      <td>6</td>\n",
       "    </tr>\n",
       "    <tr>\n",
       "      <th>11</th>\n",
       "      <td>n</td>\n",
       "      <td>6</td>\n",
       "    </tr>\n",
       "    <tr>\n",
       "      <th>12</th>\n",
       "      <td>sagle</td>\n",
       "      <td>5</td>\n",
       "    </tr>\n",
       "    <tr>\n",
       "      <th>13</th>\n",
       "      <td>mang</td>\n",
       "      <td>5</td>\n",
       "    </tr>\n",
       "    <tr>\n",
       "      <th>14</th>\n",
       "      <td>youtube</td>\n",
       "      <td>5</td>\n",
       "    </tr>\n",
       "    <tr>\n",
       "      <th>15</th>\n",
       "      <td>future</td>\n",
       "      <td>5</td>\n",
       "    </tr>\n",
       "    <tr>\n",
       "      <th>16</th>\n",
       "      <td>points</td>\n",
       "      <td>5</td>\n",
       "    </tr>\n",
       "    <tr>\n",
       "      <th>17</th>\n",
       "      <td>pn</td>\n",
       "      <td>5</td>\n",
       "    </tr>\n",
       "    <tr>\n",
       "      <th>18</th>\n",
       "      <td>ny</td>\n",
       "      <td>5</td>\n",
       "    </tr>\n",
       "    <tr>\n",
       "      <th>19</th>\n",
       "      <td>final</td>\n",
       "      <td>4</td>\n",
       "    </tr>\n",
       "  </tbody>\n",
       "</table>\n",
       "</div>"
      ],
      "text/plain": [
       "           0   1\n",
       "0         gd  15\n",
       "1       udya  15\n",
       "2      point  15\n",
       "3        add  12\n",
       "4      group  10\n",
       "5       aree   9\n",
       "6      madhe   8\n",
       "7      topic   6\n",
       "8       time   6\n",
       "9        kay   6\n",
       "10  deadline   6\n",
       "11         n   6\n",
       "12     sagle   5\n",
       "13      mang   5\n",
       "14   youtube   5\n",
       "15    future   5\n",
       "16    points   5\n",
       "17        pn   5\n",
       "18        ny   5\n",
       "19     final   4"
      ]
     },
     "execution_count": 46,
     "metadata": {},
     "output_type": "execute_result"
    }
   ],
   "source": [
    "from collections import Counter\n",
    "pd.DataFrame(Counter(cleaned_list).most_common(20))"
   ]
  },
  {
   "cell_type": "code",
   "execution_count": 47,
   "id": "8718ec0e-c380-4c58-ac81-a901b408552e",
   "metadata": {},
   "outputs": [],
   "source": [
    "import emoji"
   ]
  },
  {
   "cell_type": "code",
   "execution_count": 48,
   "id": "bf00420b-3657-483b-98dc-649c3a41dabb",
   "metadata": {},
   "outputs": [],
   "source": [
    "import emoji\n",
    "emojis = []\n",
    "for i in df['message']:\n",
    "    emojis.extend([c for c in i if c in emoji.EMOJI_DATA])"
   ]
  },
  {
   "cell_type": "code",
   "execution_count": 49,
   "id": "7d0f83e3-9125-4403-93a9-efaedd264cf0",
   "metadata": {},
   "outputs": [
    {
     "data": {
      "text/html": [
       "<div>\n",
       "<style scoped>\n",
       "    .dataframe tbody tr th:only-of-type {\n",
       "        vertical-align: middle;\n",
       "    }\n",
       "\n",
       "    .dataframe tbody tr th {\n",
       "        vertical-align: top;\n",
       "    }\n",
       "\n",
       "    .dataframe thead th {\n",
       "        text-align: right;\n",
       "    }\n",
       "</style>\n",
       "<table border=\"1\" class=\"dataframe\">\n",
       "  <thead>\n",
       "    <tr style=\"text-align: right;\">\n",
       "      <th></th>\n",
       "      <th>0</th>\n",
       "      <th>1</th>\n",
       "    </tr>\n",
       "  </thead>\n",
       "  <tbody>\n",
       "    <tr>\n",
       "      <th>0</th>\n",
       "      <td>😂</td>\n",
       "      <td>9</td>\n",
       "    </tr>\n",
       "    <tr>\n",
       "      <th>1</th>\n",
       "      <td>🥲</td>\n",
       "      <td>4</td>\n",
       "    </tr>\n",
       "    <tr>\n",
       "      <th>2</th>\n",
       "      <td>💯</td>\n",
       "      <td>3</td>\n",
       "    </tr>\n",
       "    <tr>\n",
       "      <th>3</th>\n",
       "      <td>🙂</td>\n",
       "      <td>2</td>\n",
       "    </tr>\n",
       "    <tr>\n",
       "      <th>4</th>\n",
       "      <td>🔥</td>\n",
       "      <td>2</td>\n",
       "    </tr>\n",
       "    <tr>\n",
       "      <th>5</th>\n",
       "      <td>🤣</td>\n",
       "      <td>2</td>\n",
       "    </tr>\n",
       "    <tr>\n",
       "      <th>6</th>\n",
       "      <td>😀</td>\n",
       "      <td>1</td>\n",
       "    </tr>\n",
       "    <tr>\n",
       "      <th>7</th>\n",
       "      <td>🙄</td>\n",
       "      <td>1</td>\n",
       "    </tr>\n",
       "    <tr>\n",
       "      <th>8</th>\n",
       "      <td>🎉</td>\n",
       "      <td>1</td>\n",
       "    </tr>\n",
       "    <tr>\n",
       "      <th>9</th>\n",
       "      <td>😬</td>\n",
       "      <td>1</td>\n",
       "    </tr>\n",
       "    <tr>\n",
       "      <th>10</th>\n",
       "      <td>👍</td>\n",
       "      <td>1</td>\n",
       "    </tr>\n",
       "    <tr>\n",
       "      <th>11</th>\n",
       "      <td>✋</td>\n",
       "      <td>1</td>\n",
       "    </tr>\n",
       "    <tr>\n",
       "      <th>12</th>\n",
       "      <td>😅</td>\n",
       "      <td>1</td>\n",
       "    </tr>\n",
       "    <tr>\n",
       "      <th>13</th>\n",
       "      <td>💀</td>\n",
       "      <td>1</td>\n",
       "    </tr>\n",
       "    <tr>\n",
       "      <th>14</th>\n",
       "      <td>🙃</td>\n",
       "      <td>1</td>\n",
       "    </tr>\n",
       "    <tr>\n",
       "      <th>15</th>\n",
       "      <td>😐</td>\n",
       "      <td>1</td>\n",
       "    </tr>\n",
       "    <tr>\n",
       "      <th>16</th>\n",
       "      <td>🥳</td>\n",
       "      <td>1</td>\n",
       "    </tr>\n",
       "  </tbody>\n",
       "</table>\n",
       "</div>"
      ],
      "text/plain": [
       "    0  1\n",
       "0   😂  9\n",
       "1   🥲  4\n",
       "2   💯  3\n",
       "3   🙂  2\n",
       "4   🔥  2\n",
       "5   🤣  2\n",
       "6   😀  1\n",
       "7   🙄  1\n",
       "8   🎉  1\n",
       "9   😬  1\n",
       "10  👍  1\n",
       "11  ✋  1\n",
       "12  😅  1\n",
       "13  💀  1\n",
       "14  🙃  1\n",
       "15  😐  1\n",
       "16  🥳  1"
      ]
     },
     "execution_count": 49,
     "metadata": {},
     "output_type": "execute_result"
    }
   ],
   "source": [
    "pd.DataFrame(Counter(emojis).most_common(len(Counter(emojis))))"
   ]
  },
  {
   "cell_type": "code",
   "execution_count": 51,
   "id": "b1c14379-6fe7-4729-9e5b-3f1420f0468d",
   "metadata": {},
   "outputs": [],
   "source": [
    "#from collections import Counter\n",
    "#pd.DataFrame(Counter(cleaned_list).most_common(20))"
   ]
  },
  {
   "cell_type": "code",
   "execution_count": 52,
   "id": "917d62fa-597a-46c2-8c96-c028921fed89",
   "metadata": {},
   "outputs": [],
   "source": [
    "df['month_num'] =df['date'].dt.month"
   ]
  },
  {
   "cell_type": "code",
   "execution_count": 62,
   "id": "ca6d58e7-a205-4f30-91a8-6686c86e0093",
   "metadata": {},
   "outputs": [],
   "source": [
    "timeline=df.groupby(['year','month','month_num']).count()['message'].reset_index()"
   ]
  },
  {
   "cell_type": "code",
   "execution_count": 63,
   "id": "d2b79c5b-5c18-4c5a-b830-d532cff9101b",
   "metadata": {},
   "outputs": [
    {
     "data": {
      "text/html": [
       "<div>\n",
       "<style scoped>\n",
       "    .dataframe tbody tr th:only-of-type {\n",
       "        vertical-align: middle;\n",
       "    }\n",
       "\n",
       "    .dataframe tbody tr th {\n",
       "        vertical-align: top;\n",
       "    }\n",
       "\n",
       "    .dataframe thead th {\n",
       "        text-align: right;\n",
       "    }\n",
       "</style>\n",
       "<table border=\"1\" class=\"dataframe\">\n",
       "  <thead>\n",
       "    <tr style=\"text-align: right;\">\n",
       "      <th></th>\n",
       "      <th>year</th>\n",
       "      <th>month</th>\n",
       "      <th>month_num</th>\n",
       "      <th>message</th>\n",
       "    </tr>\n",
       "  </thead>\n",
       "  <tbody>\n",
       "    <tr>\n",
       "      <th>0</th>\n",
       "      <td>2024</td>\n",
       "      <td>October</td>\n",
       "      <td>10</td>\n",
       "      <td>81</td>\n",
       "    </tr>\n",
       "    <tr>\n",
       "      <th>1</th>\n",
       "      <td>2024</td>\n",
       "      <td>September</td>\n",
       "      <td>9</td>\n",
       "      <td>232</td>\n",
       "    </tr>\n",
       "  </tbody>\n",
       "</table>\n",
       "</div>"
      ],
      "text/plain": [
       "   year      month  month_num  message\n",
       "0  2024    October         10       81\n",
       "1  2024  September          9      232"
      ]
     },
     "execution_count": 63,
     "metadata": {},
     "output_type": "execute_result"
    }
   ],
   "source": [
    "timeline"
   ]
  },
  {
   "cell_type": "code",
   "execution_count": 67,
   "id": "aaa4b0c5-b5b4-445d-bbf8-87b4d6fd1931",
   "metadata": {},
   "outputs": [],
   "source": [
    "time=[]\n",
    "for i in range(timeline.shape[0]): \n",
    "    time.append(timeline['month'][i] + \"-\"+str(timeline['year'][i]))"
   ]
  },
  {
   "cell_type": "code",
   "execution_count": 68,
   "id": "8bd495eb-daac-40c4-a5c9-c21784590a11",
   "metadata": {},
   "outputs": [
    {
     "data": {
      "text/plain": [
       "['October-2024', 'September-2024']"
      ]
     },
     "execution_count": 68,
     "metadata": {},
     "output_type": "execute_result"
    }
   ],
   "source": [
    "time"
   ]
  },
  {
   "cell_type": "code",
   "execution_count": 71,
   "id": "5fd9645c-f56d-40b6-a39f-f5cf940a3994",
   "metadata": {},
   "outputs": [],
   "source": [
    "timeline['time']=time\n",
    "import matplotlib.pyplot as plt"
   ]
  },
  {
   "cell_type": "code",
   "execution_count": 73,
   "id": "3e6996ee-7ac9-49ed-aaee-77a95b43ecfe",
   "metadata": {},
   "outputs": [
    {
     "data": {
      "text/plain": [
       "([0, 1], [Text(0, 0, 'October-2024'), Text(1, 0, 'September-2024')])"
      ]
     },
     "execution_count": 73,
     "metadata": {},
     "output_type": "execute_result"
    },
    {
     "data": {
      "image/png": "[encoded data removed]",
      "text/plain": [
       "<Figure size 640x480 with 1 Axes>"
      ]
     },
     "metadata": {},
     "output_type": "display_data"
    }
   ],
   "source": [
    "plt.plot(timeline['time'],timeline['message'])\n",
    "plt.xticks(rotation=\"vertical\")"
   ]
  },
  {
   "cell_type": "code",
   "execution_count": 76,
   "id": "3a2325c8-9b1e-49c5-9bcd-d1211299842c",
   "metadata": {},
   "outputs": [],
   "source": [
    "df['only_date']=df['date'].dt.date"
   ]
  },
  {
   "cell_type": "code",
   "execution_count": 78,
   "id": "7f1e4091-5f83-4efa-b61a-4d385a3ac573",
   "metadata": {},
   "outputs": [],
   "source": [
    "daly_timeline=df.groupby('only_date').count()['message'].reset_index()"
   ]
  },
  {
   "cell_type": "code",
   "execution_count": 79,
   "id": "b5f04993-45c6-430b-972d-ea35fb54d74e",
   "metadata": {},
   "outputs": [
    {
     "data": {
      "text/plain": [
       "[<matplotlib.lines.Line2D at 0x1a22b41e3a0>]"
      ]
     },
     "execution_count": 79,
     "metadata": {},
     "output_type": "execute_result"
    },
    {
     "data": {
      "image/png": "[encoded data removed]",
      "text/plain": [
       "<Figure size 640x480 with 1 Axes>"
      ]
     },
     "metadata": {},
     "output_type": "display_data"
    }
   ],
   "source": [
    "plt.plot(daly_timeline['only_date'],daly_timeline['message'])\n"
   ]
  },
  {
   "cell_type": "code",
   "execution_count": 84,
   "id": "5a1cc044-166e-4755-ad55-cb75880cc559",
   "metadata": {},
   "outputs": [],
   "source": [
    "# most activat day \n",
    "df['day']=df['date'].dt.day_name()"
   ]
  },
  {
   "cell_type": "code",
   "execution_count": 85,
   "id": "454a654c-23e6-4cef-9024-1a33fd20820f",
   "metadata": {},
   "outputs": [
    {
     "data": {
      "text/html": [
       "<div>\n",
       "<style scoped>\n",
       "    .dataframe tbody tr th:only-of-type {\n",
       "        vertical-align: middle;\n",
       "    }\n",
       "\n",
       "    .dataframe tbody tr th {\n",
       "        vertical-align: top;\n",
       "    }\n",
       "\n",
       "    .dataframe thead th {\n",
       "        text-align: right;\n",
       "    }\n",
       "</style>\n",
       "<table border=\"1\" class=\"dataframe\">\n",
       "  <thead>\n",
       "    <tr style=\"text-align: right;\">\n",
       "      <th></th>\n",
       "      <th>date</th>\n",
       "      <th>user</th>\n",
       "      <th>message</th>\n",
       "      <th>year</th>\n",
       "      <th>month</th>\n",
       "      <th>day</th>\n",
       "      <th>hour</th>\n",
       "      <th>min</th>\n",
       "      <th>month_num</th>\n",
       "      <th>only_date</th>\n",
       "    </tr>\n",
       "  </thead>\n",
       "  <tbody>\n",
       "    <tr>\n",
       "      <th>0</th>\n",
       "      <td>2024-09-19 18:40:00</td>\n",
       "      <td>group_notif</td>\n",
       "      <td>Messages and calls are end-to-end encrypted. N...</td>\n",
       "      <td>2024</td>\n",
       "      <td>September</td>\n",
       "      <td>Thursday</td>\n",
       "      <td>18</td>\n",
       "      <td>40</td>\n",
       "      <td>9</td>\n",
       "      <td>2024-09-19</td>\n",
       "    </tr>\n",
       "    <tr>\n",
       "      <th>1</th>\n",
       "      <td>2024-09-19 18:40:00</td>\n",
       "      <td>group_notif</td>\n",
       "      <td>You were added', '</td>\n",
       "      <td>2024</td>\n",
       "      <td>September</td>\n",
       "      <td>Thursday</td>\n",
       "      <td>18</td>\n",
       "      <td>40</td>\n",
       "      <td>9</td>\n",
       "      <td>2024-09-19</td>\n",
       "    </tr>\n",
       "    <tr>\n",
       "      <th>2</th>\n",
       "      <td>2024-09-19 18:08:00</td>\n",
       "      <td>group_notif</td>\n",
       "      <td>Rohit Bargal created group \"GD\"', '</td>\n",
       "      <td>2024</td>\n",
       "      <td>September</td>\n",
       "      <td>Thursday</td>\n",
       "      <td>18</td>\n",
       "      <td>8</td>\n",
       "      <td>9</td>\n",
       "      <td>2024-09-19</td>\n",
       "    </tr>\n",
       "    <tr>\n",
       "      <th>3</th>\n",
       "      <td>2024-09-19 18:23:00</td>\n",
       "      <td>group_notif</td>\n",
       "      <td>Vishal Autade changed the group description', '</td>\n",
       "      <td>2024</td>\n",
       "      <td>September</td>\n",
       "      <td>Thursday</td>\n",
       "      <td>18</td>\n",
       "      <td>23</td>\n",
       "      <td>9</td>\n",
       "      <td>2024-09-19</td>\n",
       "    </tr>\n",
       "    <tr>\n",
       "      <th>4</th>\n",
       "      <td>2024-09-19 18:09:00</td>\n",
       "      <td>Rohit Bargal</td>\n",
       "      <td>@918767757964 9th member la add kr', '</td>\n",
       "      <td>2024</td>\n",
       "      <td>September</td>\n",
       "      <td>Thursday</td>\n",
       "      <td>18</td>\n",
       "      <td>9</td>\n",
       "      <td>9</td>\n",
       "      <td>2024-09-19</td>\n",
       "    </tr>\n",
       "    <tr>\n",
       "      <th>...</th>\n",
       "      <td>...</td>\n",
       "      <td>...</td>\n",
       "      <td>...</td>\n",
       "      <td>...</td>\n",
       "      <td>...</td>\n",
       "      <td>...</td>\n",
       "      <td>...</td>\n",
       "      <td>...</td>\n",
       "      <td>...</td>\n",
       "      <td>...</td>\n",
       "    </tr>\n",
       "    <tr>\n",
       "      <th>308</th>\n",
       "      <td>2024-10-10 21:48:00</td>\n",
       "      <td>F Om Chaudhari</td>\n",
       "      <td>This message was deleted', '</td>\n",
       "      <td>2024</td>\n",
       "      <td>October</td>\n",
       "      <td>Thursday</td>\n",
       "      <td>21</td>\n",
       "      <td>48</td>\n",
       "      <td>10</td>\n",
       "      <td>2024-10-10</td>\n",
       "    </tr>\n",
       "    <tr>\n",
       "      <th>309</th>\n",
       "      <td>2024-10-10 21:48:00</td>\n",
       "      <td>F Om Chaudhari</td>\n",
       "      <td>Harsh be like 😂', '</td>\n",
       "      <td>2024</td>\n",
       "      <td>October</td>\n",
       "      <td>Thursday</td>\n",
       "      <td>21</td>\n",
       "      <td>48</td>\n",
       "      <td>10</td>\n",
       "      <td>2024-10-10</td>\n",
       "    </tr>\n",
       "    <tr>\n",
       "      <th>310</th>\n",
       "      <td>2024-10-10 21:49:00</td>\n",
       "      <td>Rohit Bargal</td>\n",
       "      <td>🤣🤣', '</td>\n",
       "      <td>2024</td>\n",
       "      <td>October</td>\n",
       "      <td>Thursday</td>\n",
       "      <td>21</td>\n",
       "      <td>49</td>\n",
       "      <td>10</td>\n",
       "      <td>2024-10-10</td>\n",
       "    </tr>\n",
       "    <tr>\n",
       "      <th>311</th>\n",
       "      <td>2024-10-10 21:49:00</td>\n",
       "      <td>Harsh Badhe</td>\n",
       "      <td>&lt;Media omitted&gt;', '</td>\n",
       "      <td>2024</td>\n",
       "      <td>October</td>\n",
       "      <td>Thursday</td>\n",
       "      <td>21</td>\n",
       "      <td>49</td>\n",
       "      <td>10</td>\n",
       "      <td>2024-10-10</td>\n",
       "    </tr>\n",
       "    <tr>\n",
       "      <th>312</th>\n",
       "      <td>2024-10-10 21:49:00</td>\n",
       "      <td>F Om Chaudhari</td>\n",
       "      <td>Dukh dard pida', '']</td>\n",
       "      <td>2024</td>\n",
       "      <td>October</td>\n",
       "      <td>Thursday</td>\n",
       "      <td>21</td>\n",
       "      <td>49</td>\n",
       "      <td>10</td>\n",
       "      <td>2024-10-10</td>\n",
       "    </tr>\n",
       "  </tbody>\n",
       "</table>\n",
       "<p>313 rows × 10 columns</p>\n",
       "</div>"
      ],
      "text/plain": [
       "                   date            user  \\\n",
       "0   2024-09-19 18:40:00     group_notif   \n",
       "1   2024-09-19 18:40:00     group_notif   \n",
       "2   2024-09-19 18:08:00     group_notif   \n",
       "3   2024-09-19 18:23:00     group_notif   \n",
       "4   2024-09-19 18:09:00    Rohit Bargal   \n",
       "..                  ...             ...   \n",
       "308 2024-10-10 21:48:00  F Om Chaudhari   \n",
       "309 2024-10-10 21:48:00  F Om Chaudhari   \n",
       "310 2024-10-10 21:49:00    Rohit Bargal   \n",
       "311 2024-10-10 21:49:00     Harsh Badhe   \n",
       "312 2024-10-10 21:49:00  F Om Chaudhari   \n",
       "\n",
       "                                               message  year      month  \\\n",
       "0    Messages and calls are end-to-end encrypted. N...  2024  September   \n",
       "1                                   You were added', '  2024  September   \n",
       "2                  Rohit Bargal created group \"GD\"', '  2024  September   \n",
       "3      Vishal Autade changed the group description', '  2024  September   \n",
       "4               @918767757964 9th member la add kr', '  2024  September   \n",
       "..                                                 ...   ...        ...   \n",
       "308                       This message was deleted', '  2024    October   \n",
       "309                                Harsh be like 😂', '  2024    October   \n",
       "310                                             🤣🤣', '  2024    October   \n",
       "311                                <Media omitted>', '  2024    October   \n",
       "312                               Dukh dard pida', '']  2024    October   \n",
       "\n",
       "          day  hour  min  month_num   only_date  \n",
       "0    Thursday    18   40          9  2024-09-19  \n",
       "1    Thursday    18   40          9  2024-09-19  \n",
       "2    Thursday    18    8          9  2024-09-19  \n",
       "3    Thursday    18   23          9  2024-09-19  \n",
       "4    Thursday    18    9          9  2024-09-19  \n",
       "..        ...   ...  ...        ...         ...  \n",
       "308  Thursday    21   48         10  2024-10-10  \n",
       "309  Thursday    21   48         10  2024-10-10  \n",
       "310  Thursday    21   49         10  2024-10-10  \n",
       "311  Thursday    21   49         10  2024-10-10  \n",
       "312  Thursday    21   49         10  2024-10-10  \n",
       "\n",
       "[313 rows x 10 columns]"
      ]
     },
     "execution_count": 85,
     "metadata": {},
     "output_type": "execute_result"
    }
   ],
   "source": [
    "df"
   ]
  },
  {
   "cell_type": "code",
   "execution_count": 86,
   "id": "93cc928a-dd32-48e5-9374-2020dcabc966",
   "metadata": {},
   "outputs": [
    {
     "data": {
      "text/plain": [
       "day\n",
       "Friday      136\n",
       "Thursday    108\n",
       "Saturday     52\n",
       "Sunday       15\n",
       "Monday        2\n",
       "Name: count, dtype: int64"
      ]
     },
     "execution_count": 86,
     "metadata": {},
     "output_type": "execute_result"
    }
   ],
   "source": [
    "df['day'].value_counts()"
   ]
  },
  {
   "cell_type": "code",
   "execution_count": null,
   "id": "03ba34da-edc8-4aec-ac45-8dbfc146b3f9",
   "metadata": {},
   "outputs": [],
   "source": []
  }
 ],
 "metadata": {
  "kernelspec": {
   "display_name": "Python 3 (ipykernel)",
   "language": "python",
   "name": "python3"
  },
  "language_info": {
   "codemirror_mode": {
    "name": "ipython",
    "version": 3
   },
   "file_extension": ".py",
   "mimetype": "text/x-python",
   "name": "python",
   "nbconvert_exporter": "python",
   "pygments_lexer": "ipython3",
   "version": "3.11.7"
  },
  "widgets": {
   "application/vnd.jupyter.widget-state+json": {
    "state": {},
    "version_major": 2,
    "version_minor": 0
   }
  }
 },
 "nbformat": 4,
 "nbformat_minor": 5
}
